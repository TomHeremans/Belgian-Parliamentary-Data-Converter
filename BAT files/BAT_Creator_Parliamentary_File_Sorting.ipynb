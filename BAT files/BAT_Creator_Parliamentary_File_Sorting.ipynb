{
 "cells": [
  {
   "cell_type": "code",
   "execution_count": 1,
   "id": "67730dd9-1bd7-4d31-a30e-6ef12d7f2778",
   "metadata": {},
   "outputs": [],
   "source": [
    "import pandas as pd"
   ]
  },
  {
   "cell_type": "markdown",
   "id": "b55188a2-c0b4-4c2a-bac1-4429a1d15ac4",
   "metadata": {},
   "source": [
    "# Parliamentary Files Sorter"
   ]
  },
  {
   "cell_type": "markdown",
   "id": "fed053df-de72-4a8b-a0de-e86c2c091963",
   "metadata": {},
   "source": [
    "Every file needs to be put in a file depending on the governing status quo. It frames the political context in which certain tendencies could appear. This doesn't need to be the most desireble framework. Two sorters will be made available: one concerning a sorter based on parlementary term and one based on year. These will make TXT-files which will still need to be implemented in a Command Prompt or Terminal/GitBash giving a certain code. "
   ]
  },
  {
   "cell_type": "markdown",
   "id": "cb192cfc-722a-4bc5-959d-6e3e0e07cace",
   "metadata": {},
   "source": [
    "## Legislature Sorter: List maker"
   ]
  },
  {
   "cell_type": "markdown",
   "id": "2dced7dc-4c2b-4e88-a9df-1cc871e4a20b",
   "metadata": {},
   "source": [
    "This Python script will prepare a TXT-file that lists all the paths a command prompt will need to read to rearrange the files in a new folder."
   ]
  },
  {
   "cell_type": "code",
   "execution_count": null,
   "id": "91316758-ae65-47d9-b11d-f53ca137b8ed",
   "metadata": {},
   "outputs": [
    {
     "data": {
      "text/html": [
       "<div>\n",
       "<style scoped>\n",
       "    .dataframe tbody tr th:only-of-type {\n",
       "        vertical-align: middle;\n",
       "    }\n",
       "\n",
       "    .dataframe tbody tr th {\n",
       "        vertical-align: top;\n",
       "    }\n",
       "\n",
       "    .dataframe thead th {\n",
       "        text-align: right;\n",
       "    }\n",
       "</style>\n",
       "<table border=\"1\" class=\"dataframe\">\n",
       "  <thead>\n",
       "    <tr style=\"text-align: right;\">\n",
       "      <th></th>\n",
       "      <th>session</th>\n",
       "      <th>date</th>\n",
       "      <th>type</th>\n",
       "      <th>legislatuur</th>\n",
       "    </tr>\n",
       "  </thead>\n",
       "  <tbody>\n",
       "    <tr>\n",
       "      <th>0</th>\n",
       "      <td>K00000701</td>\n",
       "      <td>1830-02-12</td>\n",
       "      <td>plenn</td>\n",
       "      <td>0</td>\n",
       "    </tr>\n",
       "    <tr>\n",
       "      <th>1</th>\n",
       "      <td>K00000733</td>\n",
       "      <td>1830-04-12</td>\n",
       "      <td>plenn</td>\n",
       "      <td>0</td>\n",
       "    </tr>\n",
       "    <tr>\n",
       "      <th>2</th>\n",
       "      <td>K00000736</td>\n",
       "      <td>1830-06-12</td>\n",
       "      <td>plenn</td>\n",
       "      <td>0</td>\n",
       "    </tr>\n",
       "    <tr>\n",
       "      <th>3</th>\n",
       "      <td>K00000767</td>\n",
       "      <td>1830-07-12</td>\n",
       "      <td>plenn</td>\n",
       "      <td>0</td>\n",
       "    </tr>\n",
       "    <tr>\n",
       "      <th>4</th>\n",
       "      <td>K00000769</td>\n",
       "      <td>1830-08-12</td>\n",
       "      <td>plenn</td>\n",
       "      <td>0</td>\n",
       "    </tr>\n",
       "    <tr>\n",
       "      <th>...</th>\n",
       "      <td>...</td>\n",
       "      <td>...</td>\n",
       "      <td>...</td>\n",
       "      <td>...</td>\n",
       "    </tr>\n",
       "    <tr>\n",
       "      <th>30046</th>\n",
       "      <td>56_ic002</td>\n",
       "      <td>2024-08-27</td>\n",
       "      <td>comm</td>\n",
       "      <td>56</td>\n",
       "    </tr>\n",
       "    <tr>\n",
       "      <th>30047</th>\n",
       "      <td>56_ic003</td>\n",
       "      <td>2024-09-11</td>\n",
       "      <td>comm</td>\n",
       "      <td>56</td>\n",
       "    </tr>\n",
       "    <tr>\n",
       "      <th>30048</th>\n",
       "      <td>56_ic004</td>\n",
       "      <td>2024-09-17</td>\n",
       "      <td>comm</td>\n",
       "      <td>56</td>\n",
       "    </tr>\n",
       "    <tr>\n",
       "      <th>30049</th>\n",
       "      <td>56_ic005</td>\n",
       "      <td>2024-09-18</td>\n",
       "      <td>comm</td>\n",
       "      <td>56</td>\n",
       "    </tr>\n",
       "    <tr>\n",
       "      <th>30050</th>\n",
       "      <td>56_ip005</td>\n",
       "      <td>2024-09-19</td>\n",
       "      <td>plen</td>\n",
       "      <td>56</td>\n",
       "    </tr>\n",
       "  </tbody>\n",
       "</table>\n",
       "<p>30051 rows × 4 columns</p>\n",
       "</div>"
      ],
      "text/plain": [
       "         session        date   type  legislatuur\n",
       "0      K00000701  1830-02-12  plenn            0\n",
       "1      K00000733  1830-04-12  plenn            0\n",
       "2      K00000736  1830-06-12  plenn            0\n",
       "3      K00000767  1830-07-12  plenn            0\n",
       "4      K00000769  1830-08-12  plenn            0\n",
       "...          ...         ...    ...          ...\n",
       "30046   56_ic002  2024-08-27   comm           56\n",
       "30047   56_ic003  2024-09-11   comm           56\n",
       "30048   56_ic004  2024-09-17   comm           56\n",
       "30049   56_ic005  2024-09-18   comm           56\n",
       "30050   56_ip005  2024-09-19   plen           56\n",
       "\n",
       "[30051 rows x 4 columns]"
      ]
     },
     "execution_count": 3,
     "metadata": {},
     "output_type": "execute_result"
    }
   ],
   "source": [
    "session = pd.read_excel(r\"sessions.xlsx\") #Add here your own path to the sessions.xlsx file\n",
    "session"
   ]
  },
  {
   "cell_type": "code",
   "execution_count": 4,
   "id": "5280788c-b28d-4a5b-8986-430aa95aadc1",
   "metadata": {},
   "outputs": [
    {
     "name": "stdout",
     "output_type": "stream",
     "text": [
      "[0, 1, 2, 3, 4, 5, 6, 7, 8, 9, 10, 11, 12, 13, 14, 15, 16, 17, 18, 19, 20, 21, 22, 23, 24, 25, 26, 27, 28, 29, 30, 31, 32, 33, 34, 35, 36, 37, 38, 39, 40, 41, 42, 43, 44, 45, 46, 47, 48, 49, 50, 51, 52, 53, 54, 55, 56]\n"
     ]
    }
   ],
   "source": [
    "legislat_list = []\n",
    "\n",
    "for each in session[\"legislatuur\"].values:\n",
    "    if each in legislat_list:\n",
    "        continue\n",
    "    else:\n",
    "        legislat_list.append(each)\n",
    "print(legislat_list)"
   ]
  },
  {
   "cell_type": "code",
   "execution_count": null,
   "id": "c7f9b059-7f48-4735-abc3-1f2b1c8ca76b",
   "metadata": {},
   "outputs": [],
   "source": [
    "for each in legislat_list:\n",
    "    with open(f'Legislature_paths_{each}.txt', \"w\", encoding=\"utf-8\") as dot:\n",
    "        legislature = session[session[\"legislatuur\"] == each].values\n",
    "        for element in legislature:\n",
    "            dot.write(rf\"ADD PATH\\{element[0]}.json\"+\"\\n\") #Add here your own path where you've stored the JSON session files"
   ]
  },
  {
   "cell_type": "markdown",
   "id": "6e555312-bcbd-4091-991b-f66dcb77449c",
   "metadata": {},
   "source": [
    "## How to sort through GitBash"
   ]
  },
  {
   "cell_type": "markdown",
   "id": "6a59122a-5147-4fb9-aa45-440ddbdde48c",
   "metadata": {},
   "source": [
    "Install a version of GitBash on your PC. When using a MAC this should be possible through Terminal. With the following code you should be able to do this for every composite path file. Go to your whished folder using the cd-command on Gitbash. First you need to set up the folders where your files will need to be stored:"
   ]
  },
  {
   "cell_type": "markdown",
   "id": "55c3e73c-7595-4724-b0be-2e797646f7d6",
   "metadata": {},
   "source": [
    "```$ mkdir legislature{0..56}```"
   ]
  },
  {
   "cell_type": "markdown",
   "id": "5fc83c8d-e521-48f9-a44c-a413b3c8a9dc",
   "metadata": {},
   "source": [
    "When this is done, you will need to copy the files from the plenum folder using our TXT-files."
   ]
  },
  {
   "cell_type": "markdown",
   "id": "eb5f788d-9fbe-4abb-8d82-3985c0fd348e",
   "metadata": {},
   "source": [
    "### BAT File maker"
   ]
  },
  {
   "cell_type": "markdown",
   "id": "d995e1b1-42ce-46b7-8c9b-a0d75c813b63",
   "metadata": {},
   "source": [
    "This code will prepare the BAT-files in a similar way the previous code made the TXT-files. For every legislature one."
   ]
  },
  {
   "cell_type": "code",
   "execution_count": null,
   "id": "5b37825c-2237-4c14-94b2-50bf17369a44",
   "metadata": {},
   "outputs": [],
   "source": [
    "for each in legislat_list:\n",
    "    with open(f'execute_copy{each}.bat', \"w\", encoding=\"utf-8\") as dot:\n",
    "        dot.write(\"@ECHO OFF\\n\")\n",
    "        dot.write(rf'FOR /F \"usebackq delims=\" %%I IN (\"ADD YOUR OWN STORAGE PATH\\Legislature_paths_{each}.txt\") DO ('+\"\\n\") #Add here your own path where you want them stored\n",
    "        dot.write(rf'xcopy %%I \"ADD YOUR OWN STORAGE PATH\\legislature{each}\"'+\"\\n\") #Add here your own path where you've stored the JSON session files\n",
    "        dot.write(')\\n')\n",
    "        dot.write('PAUSE')\n",
    "        "
   ]
  },
  {
   "cell_type": "markdown",
   "id": "130ff1b9",
   "metadata": {},
   "source": [
    "The generated BAT files need to be executed through GitBash, Terminal or Command Line."
   ]
  }
 ],
 "metadata": {
  "kernelspec": {
   "display_name": "Python 3 (ipykernel)",
   "language": "python",
   "name": "python3"
  },
  "language_info": {
   "codemirror_mode": {
    "name": "ipython",
    "version": 3
   },
   "file_extension": ".py",
   "mimetype": "text/x-python",
   "name": "python",
   "nbconvert_exporter": "python",
   "pygments_lexer": "ipython3",
   "version": "3.12.3"
  }
 },
 "nbformat": 4,
 "nbformat_minor": 5
}
